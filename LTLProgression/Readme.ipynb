{
 "cells": [
  {
   "cell_type": "markdown",
   "metadata": {},
   "source": [
    "# Read me #\n",
    "\n",
    "\n",
    "The supplemental material to the paper is provided as two python notebooks and the corresponding HTML images with outputs. To run the notebooks you will have to ensure that you have the code (also provided). You might also have to install the dependencies listed in `requirements.txt`\n",
    "\n",
    "The links to the images and the notebooks are as follows:\n",
    "\n",
    "1. **Synthetic Domain**: If you want an analysis of the interaction between the nature of probability distributions and the choice of the evaluation criteria. [This links](SyntheticDomain.html) to the HTML image. To launch the notebook use the following command:\n",
    "\n",
    "```bash\n",
    "jupyter-notebook Code/SyntheticDomain.ipynb\n",
    "```\n",
    "\n",
    "2. **Dinner Table**: If you want to look at the further details of the dinner table example. This includes the probability distribution and details of the specifiction MDP $\\mathcal{M}_{spec}$ used to train the policy. [This links](DinnerTable.html) to the HTML image. To launch the notebook use the following command:\n",
    "\n",
    "```bash\n",
    "jupyter-notebook Code/DinnerTable.ipynb\n",
    "```"
   ]
  },
  {
   "cell_type": "code",
   "execution_count": null,
   "metadata": {
    "collapsed": true
   },
   "outputs": [],
   "source": []
  }
 ],
 "metadata": {
  "kernelspec": {
   "display_name": "Python 3",
   "language": "python",
   "name": "python3"
  },
  "language_info": {
   "codemirror_mode": {
    "name": "ipython",
    "version": 3
   },
   "file_extension": ".py",
   "mimetype": "text/x-python",
   "name": "python",
   "nbconvert_exporter": "python",
   "pygments_lexer": "ipython3",
   "version": "3.6.1"
  }
 },
 "nbformat": 4,
 "nbformat_minor": 2
}
