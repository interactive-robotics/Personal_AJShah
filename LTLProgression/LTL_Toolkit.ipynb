{
 "cells": [
  {
   "cell_type": "markdown",
   "metadata": {},
   "source": [
    "# LTL Progression Toolkit\n"
   ]
  },
  {
   "cell_type": "markdown",
   "metadata": {},
   "source": [
    "Creating a toolkit for handling LTL formulas expressed as a syntax tree compatible with BSI software. The library provides tools for sampling candidate formulas, obtaining traces from files and progressing and checking satisfaction of LTL formulas on arbitrary traces"
   ]
  },
  {
   "cell_type": "markdown",
   "metadata": {},
   "source": [
    "Each LTL formula is defined as a tree using the buil-in arrays in Python, the allowable grammar for LTL formulas in our in this implementation is as follows. Note that this is not the minimal syntax and we have allowed native support for many complex operators"
   ]
  },
  {
   "cell_type": "markdown",
   "metadata": {},
   "source": [
    "$$\\varphi := \\top \\mid \\bot \\mid \\pi \\mid \\neg \\varphi \\mid \\varphi_1 \\wedge \\varphi_2 \\mid \\varphi_1 \\vee \\varphi_2  \\mid \\varphi_1 \\rightarrow \\varphi_2 \\mid \\mathbf{X} \\varphi \\mid \\varphi_1 \\mathbf{U} \\varphi_2 \\mid \\mathbf{F} \\varphi \\mid \\mathbf{G} \\varphi$$"
   ]
  },
  {
   "cell_type": "markdown",
   "metadata": {},
   "source": [
    "Note that the operators are represented by strings as follows\n",
    "\n",
    "$\\top \\equiv$ `'true'` <br>\n",
    "$\\bot \\equiv$ `'false'` <br>\n",
    "$\\neg \\equiv$ `'not'` <br>\n",
    "$\\wedge \\equiv$ `'and'` <br>\n",
    "$\\vee \\equiv$ `'or'` <br>\n",
    "$\\rightarrow \\equiv$ `'imp'` <br>\n",
    "$\\mathbf{X} \\equiv$ `'X'` <br>\n",
    "$\\mathbf{F} \\equiv$ `'F'` <br>\n",
    "$\\mathbf{G} \\equiv$ `'G'` <br>\n",
    "$\\mathbf{U} \\equiv$ `'U'` <br>"
   ]
  },
  {
   "cell_type": "markdown",
   "metadata": {},
   "source": [
    "The formula is defined as a parse tree with python arrays. The first element of the array is the logic operator and the subsequent elements arguments of the operator as per the arity of the operator. $\\wedge$ and $\\vee$ are allowed to have more than 2 arguments even though they are binary operators.\n"
   ]
  },
  {
   "cell_type": "markdown",
   "metadata": {},
   "source": [
    "An atomic propositions is represented by a unique string as follows"
   ]
  },
  {
   "cell_type": "code",
   "execution_count": 1,
   "metadata": {
    "collapsed": true
   },
   "outputs": [],
   "source": [
    "atom = ['P']"
   ]
  },
  {
   "cell_type": "markdown",
   "metadata": {},
   "source": [
    "An example of unary operator in this syntax as represented in python is as follows\n"
   ]
  },
  {
   "cell_type": "code",
   "execution_count": 2,
   "metadata": {},
   "outputs": [
    {
     "name": "stdout",
     "output_type": "stream",
     "text": [
      "['not', ['P']]\n"
     ]
    }
   ],
   "source": [
    "formula2 = ['P']\n",
    "formula = ['not',formula2]\n",
    "print(formula)"
   ]
  },
  {
   "cell_type": "markdown",
   "metadata": {},
   "source": [
    "An example binary operator is represented as follows"
   ]
  },
  {
   "cell_type": "code",
   "execution_count": 3,
   "metadata": {},
   "outputs": [
    {
     "name": "stdout",
     "output_type": "stream",
     "text": [
      "['and', ['a'], ['P']]\n"
     ]
    }
   ],
   "source": [
    "formula1 = ['a']\n",
    "formula = ['and',formula1, formula2]\n",
    "print(formula)"
   ]
  },
  {
   "cell_type": "markdown",
   "metadata": {},
   "source": [
    "A fairly complex formula with nested operators can also be created by sampling from this grammar recursively, here is an example of sampling a formula with the depth of recursion capped at 5"
   ]
  },
  {
   "cell_type": "code",
   "execution_count": 15,
   "metadata": {},
   "outputs": [
    {
     "data": {
      "text/plain": [
       "['not', ['G', ['R', ['and', ['true'], ['G', ['P2']]], ['false']]]]"
      ]
     },
     "execution_count": 15,
     "metadata": {},
     "output_type": "execute_result"
    }
   ],
   "source": [
    "from FormulaTools import SampleFormula\n",
    "Vocabulary = ['P1','P2','sand','sea']\n",
    "formula = SampleFormula(6, Vocabulary)\n",
    "formula"
   ]
  },
  {
   "cell_type": "markdown",
   "metadata": {},
   "source": [
    "Note that the `SampleFormula` will always return a syntactically correct formula. You can verify the syntax of a given formula with `VerifyFormulaSyntax` which returns a flag for whether the formula is correct or not and the first instance of a subformula that does not satisfy the syntax"
   ]
  },
  {
   "cell_type": "code",
   "execution_count": 8,
   "metadata": {},
   "outputs": [
    {
     "name": "stdout",
     "output_type": "stream",
     "text": [
      "This is a correct formula: ['U', ['or', ['P1'], ['sand']], ['true']]\n",
      "Verification:  (True, 'Binary')\n",
      "\n",
      "\n",
      "This is an incorrect formula: ['and', ['a'], ['b', 'b']]\n",
      "Verification:  (False, ['b', 'b'])\n"
     ]
    }
   ],
   "source": [
    "from FormulaTools import VerifyFormulaSyntax\n",
    "\n",
    "print('This is a correct formula:', formula,)\n",
    "print('Verification: ',VerifyFormulaSyntax(formula))\n",
    "\n",
    "print('\\n')\n",
    "\n",
    "formula2 = ['and',['a'],['b','b']]\n",
    "print('This is an incorrect formula:', formula2)\n",
    "print('Verification: ', VerifyFormulaSyntax(formula2))"
   ]
  },
  {
   "cell_type": "code",
   "execution_count": 9,
   "metadata": {},
   "outputs": [
    {
     "data": {
      "text/plain": [
       "0"
      ]
     },
     "execution_count": 9,
     "metadata": {},
     "output_type": "execute_result"
    }
   ],
   "source": [
    "import os\n",
    "os.system('ls')"
   ]
  },
  {
   "cell_type": "code",
   "execution_count": null,
   "metadata": {
    "collapsed": true
   },
   "outputs": [],
   "source": []
  }
 ],
 "metadata": {
  "kernelspec": {
   "display_name": "Python 3",
   "language": "python",
   "name": "python3"
  },
  "language_info": {
   "codemirror_mode": {
    "name": "ipython",
    "version": 3
   },
   "file_extension": ".py",
   "mimetype": "text/x-python",
   "name": "python",
   "nbconvert_exporter": "python",
   "pygments_lexer": "ipython3",
   "version": "3.7.6"
  }
 },
 "nbformat": 4,
 "nbformat_minor": 2
}
