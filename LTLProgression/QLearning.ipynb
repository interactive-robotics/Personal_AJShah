{
 "cells": [
  {
   "cell_type": "markdown",
   "metadata": {},
   "source": [
    "# Learning agents for Specification MDPs #\n",
    "\n",
    "In this notebook we explore the implementations of 2 learning agents in the specification MDP domain. The first is the regular Q-learning to generate optimal policy in the optimal paradigm. The second one is soft-Q-Learning that generates maximum entropy policies that can represent multimodal optimal policies."
   ]
  },
  {
   "cell_type": "markdown",
   "metadata": {},
   "source": [
    "As usual we begin by importing our sample MDP problem"
   ]
  },
  {
   "cell_type": "code",
   "execution_count": 2,
   "metadata": {
    "collapsed": true
   },
   "outputs": [],
   "source": [
    "from utils import *\n",
    "from Exploration import *\n",
    "from LearningAgents import *\n",
    "import matplotlib\n",
    "%matplotlib inline\n",
    "\n",
    "MDP = CreateSampleMDP()"
   ]
  },
  {
   "cell_type": "markdown",
   "metadata": {},
   "source": [
    "Now lets define a standard Q-learning agent. This agent has $\\gamma = 0.95$ and an $\\epsilon$-greedy exploration policy with $\\epsilon = 0.2$. We will train this agent for a maximum of 10000 episodes and an upper limit of number of actions taken to be 100,000. Each episode is limited to 20 actions."
   ]
  },
  {
   "cell_type": "code",
   "execution_count": 3,
   "metadata": {},
   "outputs": [
    {
     "name": "stdout",
     "output_type": "stream",
     "text": [
      "Training episode 9900         "
     ]
    },
    {
     "data": {
      "text/plain": [
       "(95099, 10000)"
      ]
     },
     "execution_count": 3,
     "metadata": {},
     "output_type": "execute_result"
    }
   ],
   "source": [
    "q_agent = QLearningAgent(MDP)\n",
    "q_agent.Q_init = 0.01\n",
    "q_agent.eps = 0.2\n",
    "q_agent.explore(episode_limit = 10000, action_limit = 100000, verbose=True)\n",
    "#q_agent.visualize_exploration(prog='twopi')\n"
   ]
  },
  {
   "cell_type": "markdown",
   "metadata": {},
   "source": [
    "We can test how well this policy performed by initializing a second agent with the policy learned by the Q-learning agent."
   ]
  },
  {
   "cell_type": "code",
   "execution_count": 4,
   "metadata": {},
   "outputs": [
    {
     "data": {
      "text/plain": [
       "[-1.0, -1.0, -0.94720000000000004, -0.77733333333333343, 1.0]"
      ]
     },
     "execution_count": 4,
     "metadata": {},
     "output_type": "execute_result"
    },
    {
     "data": {
      "image/png": "[encoded data removed]",
      "text/plain": [
       "<Figure size 432x288 with 1 Axes>"
      ]
     },
     "metadata": {},
     "output_type": "display_data"
    }
   ],
   "source": [
    "evaluator = ExplorerAgent(MDP, input_policy=q_agent.learned_policy)\n",
    "evaluator.explore(episode_limit = 10)\n",
    "evaluator.visualize_exploration(prog = 'twopi')"
   ]
  },
  {
   "cell_type": "code",
   "execution_count": 23,
   "metadata": {},
   "outputs": [
    {
     "data": {
      "text/plain": [
       "array([  3.3201663 ,   2.82060697,   4.08298792,   3.03176686,\n",
       "         2.050809  ,   0.64598403,  20.8602721 ,   5.17893829,   1.13844487])"
      ]
     },
     "execution_count": 23,
     "metadata": {},
     "output_type": "execute_result"
    }
   ],
   "source": [
    "q_agent.MDP.initialize_state()\n",
    "Qval = q_agent.get_max_Q_action(q_agent.MDP.state)[2]\n",
    "(Qval)"
   ]
  },
  {
   "cell_type": "code",
   "execution_count": 16,
   "metadata": {},
   "outputs": [
    {
     "data": {
      "text/plain": [
       "array([ 0.        ,  0.        ,  0.        ,  0.        ,  0.        ,\n",
       "        0.        ,  0.64598403,  0.        ,  0.        ])"
      ]
     },
     "execution_count": 16,
     "metadata": {},
     "output_type": "execute_result"
    }
   ],
   "source": [
    "q_agent.MDP.transition(q_agent.MDP.state, 'W0')\n",
    "Qval = q_agent.get_max_Q_action(q_agent.MDP.state)[2]\n",
    "Qval"
   ]
  },
  {
   "cell_type": "code",
   "execution_count": 20,
   "metadata": {},
   "outputs": [
    {
     "data": {
      "text/plain": [
       "array([ 0.        ,  0.64598403,  0.        ,  0.        ,  0.        ,\n",
       "        0.        ,  0.        ,  0.        ,  0.        ])"
      ]
     },
     "execution_count": 20,
     "metadata": {},
     "output_type": "execute_result"
    }
   ],
   "source": [
    "q_agent.MDP.transition(q_agent.MDP.state, 'W1')\n",
    "Qval = q_agent.get_max_Q_action(q_agent.MDP.state)[2]\n",
    "Qval"
   ]
  },
  {
   "cell_type": "markdown",
   "metadata": {},
   "source": [
    "Now lets train a vanilla soft-q-learning agent"
   ]
  },
  {
   "cell_type": "code",
   "execution_count": 10,
   "metadata": {},
   "outputs": [
    {
     "name": "stdout",
     "output_type": "stream",
     "text": [
      "Training episode 5100         "
     ]
    },
    {
     "data": {
      "text/plain": [
       "[-1.0, -1.0]"
      ]
     },
     "execution_count": 10,
     "metadata": {},
     "output_type": "execute_result"
    },
    {
     "data": {
      "image/png": "[encoded data removed]",
      "text/plain": [
       "<Figure size 432x288 with 1 Axes>"
      ]
     },
     "metadata": {},
     "output_type": "display_data"
    }
   ],
   "source": [
    "softmax_agent = QLearningAgent(MDP, soft_bellman=True)\n",
    "softmax_agent.explore(episode_limit = 10000, action_limit = 100000, verbose = True)\n",
    "\n",
    "evaluator = ExplorerAgent(MDP, input_policy=softmax_agent.learned_policy)\n",
    "evaluator.explore(episode_limit = 10)\n",
    "evaluator.visualize_exploration(prog = 'twopi')"
   ]
  },
  {
   "cell_type": "markdown",
   "metadata": {},
   "source": [
    "This doesnt quite work. perhaps initializing the soft-Q-learning with the regular Q learning function might help?"
   ]
  },
  {
   "cell_type": "code",
   "execution_count": 12,
   "metadata": {},
   "outputs": [
    {
     "name": "stdout",
     "output_type": "stream",
     "text": [
      "Training episode 5000         "
     ]
    },
    {
     "data": {
      "text/plain": [
       "(100000, 5087)"
      ]
     },
     "execution_count": 12,
     "metadata": {},
     "output_type": "execute_result"
    }
   ],
   "source": [
    "softmax_agent = QLearningAgent(MDP, soft_bellman=True)\n",
    "softmax_agent.Q_init = 0\n",
    "softmax_agent.Q = q_agent.Q\n",
    "softmax_agent.explore(episode_limit = 10000, action_limit = 100000, verbose = True)"
   ]
  },
  {
   "cell_type": "code",
   "execution_count": 13,
   "metadata": {},
   "outputs": [
    {
     "data": {
      "text/plain": [
       "[-1.0, -1.0, -1.0]"
      ]
     },
     "execution_count": 13,
     "metadata": {},
     "output_type": "execute_result"
    },
    {
     "data": {
      "image/png": "[encoded data removed]",
      "text/plain": [
       "<Figure size 432x288 with 1 Axes>"
      ]
     },
     "metadata": {},
     "output_type": "display_data"
    }
   ],
   "source": [
    "evaluator = ExplorerAgent(MDP, input_policy=softmax_agent.learned_softmax_policy)\n",
    "evaluator.explore(episode_limit = 10)\n",
    "evaluator.visualize_exploration(prog = 'twopi')"
   ]
  },
  {
   "cell_type": "code",
   "execution_count": 14,
   "metadata": {},
   "outputs": [
    {
     "data": {
      "text/plain": [
       "array([  2.41228558e-08,   1.46377006e-08,   5.17270776e-08,\n",
       "         1.80791677e-08,   6.77881604e-09,   1.66358929e-09,\n",
       "         9.99999725e-01,   1.54768701e-07,   2.72219444e-09])"
      ]
     },
     "execution_count": 14,
     "metadata": {},
     "output_type": "execute_result"
    }
   ],
   "source": [
    "softmax_agent.MDP.initialize_state()\n",
    "Qval = q_agent.get_max_Q_action(softmax_agent.MDP.state)[2]\n",
    "softmax(Qval)"
   ]
  },
  {
   "cell_type": "code",
   "execution_count": null,
   "metadata": {
    "collapsed": true
   },
   "outputs": [],
   "source": []
  }
 ],
 "metadata": {
  "kernelspec": {
   "display_name": "Python 3",
   "language": "python",
   "name": "python3"
  },
  "language_info": {
   "codemirror_mode": {
    "name": "ipython",
    "version": 3
   },
   "file_extension": ".py",
   "mimetype": "text/x-python",
   "name": "python",
   "nbconvert_exporter": "python",
   "pygments_lexer": "ipython3",
   "version": "3.6.1"
  }
 },
 "nbformat": 4,
 "nbformat_minor": 2
}
