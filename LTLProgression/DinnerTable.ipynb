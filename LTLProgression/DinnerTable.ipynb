{
 "cells": [
  {
   "cell_type": "code",
   "execution_count": null,
   "metadata": {
    "collapsed": true
   },
   "outputs": [],
   "source": [
    "from SpecificationMDP import *\n",
    "from LearningAgents import *\n",
    "import matplotlib\n",
    "%matplotlib inline\n",
    "#matplotlib.rcparams\n",
    "matplotlib.rcParams['figure.figsize'] = [20,10]"
   ]
  },
  {
   "cell_type": "code",
   "execution_count": null,
   "metadata": {
    "collapsed": true
   },
   "outputs": [],
   "source": [
    "MDP = CreateDinnerMDP()"
   ]
  },
  {
   "cell_type": "code",
   "execution_count": null,
   "metadata": {
    "collapsed": true
   },
   "outputs": [],
   "source": [
    "def RecordLearningCurve(MDP, Learner, max_episodes = 10000, steps = 10, temp = 0.01, verbose = False):\n",
    "    episodes = 0\n",
    "    mean_rewards = []\n",
    "    rewards = []\n",
    "    std_rewards = []\n",
    "    mean_episode_length = []\n",
    "    ep = []\n",
    "    \n",
    "    for i in range(0,max_episodes,steps):\n",
    "        \n",
    "        if verbose:\n",
    "            print(f'\\r Training and evaluating with {i} episodes        ', end = '')\n",
    "        \n",
    "        episodes = episodes + steps\n",
    "        ep.append(episodes)\n",
    "        Learner.explore(episode_limit = steps, verbose = False)\n",
    "        evaluator = ExplorerAgent(MDP, input_policy = Learner.create_learned_softmax_policy(temp))\n",
    "        evaluator.explore(episode_limit = 50)\n",
    "        r = [record[-1][3] for record in evaluator.episodic_record]\n",
    "        l = [len(record) for record in evaluator.episodic_record]\n",
    "        \n",
    "        rewards.append(r)\n",
    "        mean_rewards.append(np.mean(r))\n",
    "        std_rewards.append(np.std(r))\n",
    "        mean_episode_length.append(np.mean(l))\n",
    "        \n",
    "        #print(mean_rewards[-1])\n",
    "        \n",
    "        \n",
    "    return rewards, mean_rewards, std_rewards, mean_episode_length, ep"
   ]
  },
  {
   "cell_type": "code",
   "execution_count": null,
   "metadata": {
    "collapsed": true
   },
   "outputs": [],
   "source": [
    "import os\n",
    "import pickle\n",
    "#os.mkdir('Q_Agent')"
   ]
  },
  {
   "cell_type": "code",
   "execution_count": 24,
   "metadata": {
    "collapsed": true
   },
   "outputs": [],
   "source": [
    "def TrainAndTest(LearnerType, MDP, directory, nRuns = 10, episodes = 1000, steps = 1, temp=0.01, verbose=True):\n",
    "    \n",
    "    if not os.path.exists(directory):\n",
    "        os.mkdir(directory)\n",
    "    for i in range(nRuns):\n",
    "        print(f'Run: {i} of {nRuns}')\n",
    "        agent = LearnerType(MDP)\n",
    "        LCRecord = RecordLearningCurve(MDP, agent, max_episodes=episodes, steps = steps, temp = temp, verbose=verbose)\n",
    "        with open(os.path.join(directory, f'LC{i}'),'wb') as file:\n",
    "            pickle.dump({'LC':LCRecord},file)\n",
    "        del agent"
   ]
  },
  {
   "cell_type": "code",
   "execution_count": null,
   "metadata": {
    "collapsed": true
   },
   "outputs": [],
   "source": [
    "nRuns = 10\n",
    "for i in range(nRuns):\n",
    "    q_agent = QLearningAgent(MDP)\n",
    "    LCRecords = RecordLearningCurve(MDP, q_agent, max_episodes = 1000, steps = 1, temp = 0.01, verbose = True)\n",
    "    with open(f'Q_Agent/LC{i}.pkl', 'wb') as file:\n",
    "        pickle.dump({'LC':LCRecords}, file)\n",
    "    del q_agent\n",
    "    #plt.plot(LCRecords[3], LCRecords[0])"
   ]
  },
  {
   "cell_type": "code",
   "execution_count": null,
   "metadata": {
    "collapsed": true
   },
   "outputs": [],
   "source": [
    "# stoch_eval = ExplorerAgent(MDP, input_policy = q_agent.create_learned_softmax_policy(0.01))\n",
    "# stoch_eval.explore(episode_limit = 1000)\n",
    "_ = stoch_eval.visualize_exploration()"
   ]
  },
  {
   "cell_type": "markdown",
   "metadata": {},
   "source": [
    "Training a single version of the counterfactual agent\n"
   ]
  },
  {
   "cell_type": "markdown",
   "metadata": {},
   "source": [
    "Recording the learning curve over multiple runs of the counterfactual agent"
   ]
  },
  {
   "cell_type": "code",
   "execution_count": null,
   "metadata": {},
   "outputs": [],
   "source": [
    "CFAgent = lambda MDP: QLearningAgent(MDP, counterfactual_updates=True)\n",
    "TrainAndTest(CFAgent, MDP, 'CFAgent', episodes = 500)"
   ]
  }
 ],
 "metadata": {
  "kernelspec": {
   "display_name": "Python 3",
   "language": "python",
   "name": "python3"
  },
  "language_info": {
   "codemirror_mode": {
    "name": "ipython",
    "version": 3
   },
   "file_extension": ".py",
   "mimetype": "text/x-python",
   "name": "python",
   "nbconvert_exporter": "python",
   "pygments_lexer": "ipython3",
   "version": "3.6.1"
  }
 },
 "nbformat": 4,
 "nbformat_minor": 2
}
