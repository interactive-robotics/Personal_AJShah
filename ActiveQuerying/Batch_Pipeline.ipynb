{
 "cells": [
  {
   "cell_type": "code",
   "execution_count": 9,
   "metadata": {},
   "outputs": [],
   "source": [
    "from DemoScript import *\n",
    "import matplotlib\n",
    "import batch_params as params\n",
    "%matplotlib inline\n",
    "matplotlib.rcParams['figure.figsize'] = [10,5]\n",
    "\n",
    "import warnings\n",
    "warnings.filterwarnings(\"ignore\") "
   ]
  },
  {
   "cell_type": "code",
   "execution_count": 10,
   "metadata": {},
   "outputs": [],
   "source": [
    "matplotlib.rcParams['figure.figsize'] = [10,5]"
   ]
  },
  {
   "cell_type": "markdown",
   "metadata": {},
   "source": [
    "First read the raw data and store only the points where proposition changes were observed"
   ]
  },
  {
   "cell_type": "code",
   "execution_count": 11,
   "metadata": {},
   "outputs": [],
   "source": [
    "params.nTraj = 6\n",
    "raw_data = read_raw_data(params.raw_data_path)\n",
    "compressed_data = compress_data(raw_data)\n",
    "write_data(params.compressed_data_path, compressed_data)\n",
    "params.nSamples = 20000\n",
    "params.nBurn = 500"
   ]
  },
  {
   "cell_type": "code",
   "execution_count": 12,
   "metadata": {},
   "outputs": [
    {
     "name": "stdout",
     "output_type": "stream",
     "text": [
      "webppl batch_bsi.js --require webppl-json --require webppl-fs -- --nSamples 20000  --nBurn 500 --dataPath 'Batch_Data/CompressedData' --outPath 'Batch_Distributions' --nTraj 6\n"
     ]
    }
   ],
   "source": [
    "infer_command = f'webppl batch_bsi.js --require webppl-json --require webppl-fs -- --nSamples {params.nSamples}  --nBurn {params.nBurn} --dataPath \\'{params.compressed_data_path}\\' --outPath \\'{params.output_path}\\' --nTraj {params.nTraj}'\n",
    "returnval = os.system(infer_command)\n",
    "if returnval: Exception('Inference Failure')\n",
    "print(infer_command)"
   ]
  },
  {
   "cell_type": "markdown",
   "metadata": {},
   "source": [
    "**This is the final posterior. Plot the posterior**"
   ]
  },
  {
   "cell_type": "code",
   "execution_count": 13,
   "metadata": {},
   "outputs": [
    {
     "data": {
      "image/png": "[encoded data removed]",
      "text/plain": [
       "<Figure size 720x360 with 1 Axes>"
      ]
     },
     "metadata": {
      "needs_background": "light"
     },
     "output_type": "display_data"
    }
   ],
   "source": [
    "spec_file = os.path.join(params.output_path, 'batch_posterior.json')\n",
    "MDP = CreateSpecMDP(spec_file, n_threats=0, n_waypoints=5)"
   ]
  },
  {
   "cell_type": "code",
   "execution_count": 14,
   "metadata": {},
   "outputs": [
    {
     "data": {
      "text/plain": [
       "['and',\n",
       " ['F', ['W0']],\n",
       " ['F', ['W1']],\n",
       " ['F', ['W2']],\n",
       " ['F', ['W3']],\n",
       " ['F', ['W4']],\n",
       " ['U', ['not', ['W2']], ['W0']],\n",
       " ['U', ['not', ['W1']], ['W4']]]"
      ]
     },
     "execution_count": 14,
     "metadata": {},
     "output_type": "execute_result"
    }
   ],
   "source": [
    "MDP.specification_fsm._formulas[2]"
   ]
  },
  {
   "cell_type": "code",
   "execution_count": null,
   "metadata": {},
   "outputs": [],
   "source": []
  }
 ],
 "metadata": {
  "kernelspec": {
   "display_name": "Python 3",
   "language": "python",
   "name": "python3"
  },
  "language_info": {
   "codemirror_mode": {
    "name": "ipython",
    "version": 3
   },
   "file_extension": ".py",
   "mimetype": "text/x-python",
   "name": "python",
   "nbconvert_exporter": "python",
   "pygments_lexer": "ipython3",
   "version": "3.6.8"
  }
 },
 "nbformat": 4,
 "nbformat_minor": 2
}
