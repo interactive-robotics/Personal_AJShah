{
 "cells": [
  {
   "cell_type": "code",
   "execution_count": 3,
   "id": "7d13bec6",
   "metadata": {},
   "outputs": [],
   "source": [
    "import spot\n",
    "import puns\n",
    "from formula_sampler import *\n",
    "from collections import defaultdict\n",
    "import networkx as nx\n",
    "import sympy"
   ]
  },
  {
   "cell_type": "code",
   "execution_count": 4,
   "id": "9ec5d0ea",
   "metadata": {},
   "outputs": [],
   "source": [
    "formula = 'G thayer & F cafe & F store & F bank'"
   ]
  },
  {
   "cell_type": "code",
   "execution_count": 5,
   "id": "ff08ba95",
   "metadata": {},
   "outputs": [
    {
     "data": {
      "text/plain": [
       "'G thayer & F cafe & F store & F bank'"
      ]
     },
     "execution_count": 5,
     "metadata": {},
     "output_type": "execute_result"
    }
   ],
   "source": [
    "formula"
   ]
  },
  {
   "cell_type": "code",
   "execution_count": 6,
   "id": "6eba0d2e",
   "metadata": {},
   "outputs": [],
   "source": [
    "aut = spot.translate(formula)"
   ]
  },
  {
   "cell_type": "code",
   "execution_count": 7,
   "id": "b6e00456",
   "metadata": {},
   "outputs": [],
   "source": [
    "dfa, accepting_states, rejecting_states, init = ltl2digraph(formula)"
   ]
  },
  {
   "cell_type": "code",
   "execution_count": 8,
   "id": "f6cb2bcb",
   "metadata": {},
   "outputs": [],
   "source": [
    "paths = paths_to_accepting_states(dfa, init, accepting_states)"
   ]
  },
  {
   "cell_type": "code",
   "execution_count": 9,
   "id": "7c9b94d7",
   "metadata": {},
   "outputs": [
    {
     "data": {
      "text/plain": [
       "[[1, 0],\n",
       " [1, 2, 0],\n",
       " [1, 2, 6, 0],\n",
       " [1, 2, 7, 0],\n",
       " [1, 3, 0],\n",
       " [1, 3, 5, 0],\n",
       " [1, 3, 7, 0],\n",
       " [1, 4, 0],\n",
       " [1, 4, 5, 0],\n",
       " [1, 4, 6, 0],\n",
       " [1, 5, 0],\n",
       " [1, 6, 0],\n",
       " [1, 7, 0]]"
      ]
     },
     "execution_count": 9,
     "metadata": {},
     "output_type": "execute_result"
    }
   ],
   "source": [
    "paths"
   ]
  },
  {
   "cell_type": "code",
   "execution_count": 10,
   "id": "d2d66bc8",
   "metadata": {},
   "outputs": [
    {
     "data": {
      "text/plain": [
       "{'edge_label': '!bank & !cafe & !store & thayer'}"
      ]
     },
     "execution_count": 10,
     "metadata": {},
     "output_type": "execute_result"
    }
   ],
   "source": [
    "dfa.get_edge_data(1,1)"
   ]
  },
  {
   "cell_type": "code",
   "execution_count": 11,
   "id": "531b0bb0",
   "metadata": {},
   "outputs": [],
   "source": [
    "x,y,z, = sympy.symbols('blah blah2 blah3')\n"
   ]
  },
  {
   "cell_type": "code",
   "execution_count": 33,
   "id": "c7ad5ba0",
   "metadata": {},
   "outputs": [],
   "source": [
    "self_edge = dfa.get_edge_data(1,1)['edge_label'].replace('!','~')\n",
    "transition_edge = dfa.get_edge_data(1,2)['edge_label'].replace('!','~')\n"
   ]
  },
  {
   "cell_type": "code",
   "execution_count": 34,
   "id": "0ea4edf2",
   "metadata": {},
   "outputs": [
    {
     "data": {
      "text/plain": [
       "'~bank & ~cafe & ~store & thayer'"
      ]
     },
     "execution_count": 34,
     "metadata": {},
     "output_type": "execute_result"
    }
   ],
   "source": [
    "self_edge"
   ]
  },
  {
   "cell_type": "code",
   "execution_count": 35,
   "id": "04233cb1",
   "metadata": {},
   "outputs": [
    {
     "data": {
      "text/plain": [
       "'~bank & cafe & ~store & thayer'"
      ]
     },
     "execution_count": 35,
     "metadata": {},
     "output_type": "execute_result"
    }
   ],
   "source": [
    "transition_edge"
   ]
  },
  {
   "cell_type": "code",
   "execution_count": 37,
   "id": "0c0a43f1",
   "metadata": {},
   "outputs": [
    {
     "ename": "NotImplementedError",
     "evalue": "Sorry, as_set has not yet been implemented for multivariate expressions",
     "output_type": "error",
     "traceback": [
      "\u001b[0;31m---------------------------------------------------------------------------\u001b[0m",
      "\u001b[0;31mNotImplementedError\u001b[0m                       Traceback (most recent call last)",
      "\u001b[0;32m/tmp/ipykernel_136354/816946403.py\u001b[0m in \u001b[0;36m<module>\u001b[0;34m\u001b[0m\n\u001b[1;32m      1\u001b[0m \u001b[0mself_edge\u001b[0m \u001b[0;34m=\u001b[0m \u001b[0msympy\u001b[0m\u001b[0;34m.\u001b[0m\u001b[0msympify\u001b[0m\u001b[0;34m(\u001b[0m\u001b[0mself_edge\u001b[0m\u001b[0;34m)\u001b[0m\u001b[0;34m\u001b[0m\u001b[0;34m\u001b[0m\u001b[0m\n\u001b[0;32m----> 2\u001b[0;31m \u001b[0mself_edge\u001b[0m\u001b[0;34m.\u001b[0m\u001b[0mas_set\u001b[0m\u001b[0;34m(\u001b[0m\u001b[0;34m)\u001b[0m\u001b[0;34m\u001b[0m\u001b[0;34m\u001b[0m\u001b[0m\n\u001b[0m",
      "\u001b[0;32m~/anaconda3/envs/spot/lib/python3.9/site-packages/sympy/logic/boolalg.py\u001b[0m in \u001b[0;36mas_set\u001b[0;34m(self)\u001b[0m\n\u001b[1;32m    169\u001b[0m             \u001b[0;32mreturn\u001b[0m \u001b[0mself\u001b[0m\u001b[0;34m.\u001b[0m\u001b[0msubs\u001b[0m\u001b[0;34m(\u001b[0m\u001b[0mreps\u001b[0m\u001b[0;34m)\u001b[0m\u001b[0;34m.\u001b[0m\u001b[0m_eval_as_set\u001b[0m\u001b[0;34m(\u001b[0m\u001b[0;34m)\u001b[0m\u001b[0;34m\u001b[0m\u001b[0;34m\u001b[0m\u001b[0m\n\u001b[1;32m    170\u001b[0m         \u001b[0;32melse\u001b[0m\u001b[0;34m:\u001b[0m\u001b[0;34m\u001b[0m\u001b[0;34m\u001b[0m\u001b[0m\n\u001b[0;32m--> 171\u001b[0;31m             raise NotImplementedError(\"Sorry, as_set has not yet been\"\n\u001b[0m\u001b[1;32m    172\u001b[0m                                       \u001b[0;34m\" implemented for multivariate\"\u001b[0m\u001b[0;34m\u001b[0m\u001b[0;34m\u001b[0m\u001b[0m\n\u001b[1;32m    173\u001b[0m                                       \" expressions\")\n",
      "\u001b[0;31mNotImplementedError\u001b[0m: Sorry, as_set has not yet been implemented for multivariate expressions"
     ]
    }
   ],
   "source": [
    "self_edge = sympy.sympify(self_edge)\n",
    "self_edge.as_set()"
   ]
  },
  {
   "cell_type": "code",
   "execution_count": 41,
   "id": "cba53617",
   "metadata": {},
   "outputs": [],
   "source": [
    "models = list(sympy.logic.inference.satisfiable(self_edge, all_models = True))"
   ]
  },
  {
   "cell_type": "code",
   "execution_count": 39,
   "id": "cdc3c509",
   "metadata": {},
   "outputs": [
    {
     "data": {
      "text/plain": [
       "[{thayer: True, cafe: False, bank: False, store: False}]"
      ]
     },
     "execution_count": 39,
     "metadata": {},
     "output_type": "execute_result"
    }
   ],
   "source": [
    "models\n"
   ]
  },
  {
   "cell_type": "code",
   "execution_count": null,
   "id": "bf1f1867",
   "metadata": {},
   "outputs": [],
   "source": []
  }
 ],
 "metadata": {
  "kernelspec": {
   "display_name": "Python 3 (ipykernel)",
   "language": "python",
   "name": "python3"
  },
  "language_info": {
   "codemirror_mode": {
    "name": "ipython",
    "version": 3
   },
   "file_extension": ".py",
   "mimetype": "text/x-python",
   "name": "python",
   "nbconvert_exporter": "python",
   "pygments_lexer": "ipython3",
   "version": "3.9.10"
  }
 },
 "nbformat": 4,
 "nbformat_minor": 5
}
